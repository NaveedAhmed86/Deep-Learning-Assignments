{
  "nbformat": 4,
  "nbformat_minor": 0,
  "metadata": {
    "colab": {
      "name": "Credit_Card_Assignment.ipynb",
      "provenance": [],
      "collapsed_sections": []
    },
    "kernelspec": {
      "name": "python3",
      "display_name": "Python 3"
    },
    "language_info": {
      "name": "python"
    }
  },
  "cells": [
    {
      "cell_type": "code",
      "metadata": {
        "colab": {
          "base_uri": "https://localhost:8080/"
        },
        "id": "LsPPGwo1DbO_",
        "outputId": "5763c94a-fd58-42fc-b996-3fae0a83ca6a"
      },
      "source": [
        "from google.colab import drive\n",
        "drive.mount('/content/drive')"
      ],
      "execution_count": 2,
      "outputs": [
        {
          "output_type": "stream",
          "text": [
            "Mounted at /content/drive\n"
          ],
          "name": "stdout"
        }
      ]
    },
    {
      "cell_type": "code",
      "metadata": {
        "colab": {
          "base_uri": "https://localhost:8080/"
        },
        "id": "Ok37HTdHEhuO",
        "outputId": "539b3134-6af7-4d9e-9acc-971491f59c18"
      },
      "source": [
        "cd /content/drive/MyDrive/Colab Notebooks"
      ],
      "execution_count": 3,
      "outputs": [
        {
          "output_type": "stream",
          "text": [
            "/content/drive/MyDrive/Colab Notebooks\n"
          ],
          "name": "stdout"
        }
      ]
    },
    {
      "cell_type": "code",
      "metadata": {
        "id": "TKZZWN1hCiFx"
      },
      "source": [
        "import tensorflow as tf\n",
        "import pandas as pd\n",
        "import numpy as np\n",
        "import matplotlib.pyplot as plt\n",
        "from keras import models\n",
        "from keras import layers\n",
        "from sklearn.model_selection import train_test_split"
      ],
      "execution_count": 4,
      "outputs": []
    },
    {
      "cell_type": "code",
      "metadata": {
        "colab": {
          "base_uri": "https://localhost:8080/",
          "height": 439
        },
        "id": "rlJAuHDSENeZ",
        "outputId": "cd98a0a7-fb63-4e36-a6e5-875258eaed59"
      },
      "source": [
        "import io\n",
        "from keras import regularizers\n",
        "df= pd.read_csv('/content/drive/MyDrive/Colab Notebooks/creditcard.csv')\n",
        "df"
      ],
      "execution_count": 5,
      "outputs": [
        {
          "output_type": "execute_result",
          "data": {
            "text/html": [
              "<div>\n",
              "<style scoped>\n",
              "    .dataframe tbody tr th:only-of-type {\n",
              "        vertical-align: middle;\n",
              "    }\n",
              "\n",
              "    .dataframe tbody tr th {\n",
              "        vertical-align: top;\n",
              "    }\n",
              "\n",
              "    .dataframe thead th {\n",
              "        text-align: right;\n",
              "    }\n",
              "</style>\n",
              "<table border=\"1\" class=\"dataframe\">\n",
              "  <thead>\n",
              "    <tr style=\"text-align: right;\">\n",
              "      <th></th>\n",
              "      <th>Time</th>\n",
              "      <th>V1</th>\n",
              "      <th>V2</th>\n",
              "      <th>V3</th>\n",
              "      <th>V4</th>\n",
              "      <th>V5</th>\n",
              "      <th>V6</th>\n",
              "      <th>V7</th>\n",
              "      <th>V8</th>\n",
              "      <th>V9</th>\n",
              "      <th>V10</th>\n",
              "      <th>V11</th>\n",
              "      <th>V12</th>\n",
              "      <th>V13</th>\n",
              "      <th>V14</th>\n",
              "      <th>V15</th>\n",
              "      <th>V16</th>\n",
              "      <th>V17</th>\n",
              "      <th>V18</th>\n",
              "      <th>V19</th>\n",
              "      <th>V20</th>\n",
              "      <th>V21</th>\n",
              "      <th>V22</th>\n",
              "      <th>V23</th>\n",
              "      <th>V24</th>\n",
              "      <th>V25</th>\n",
              "      <th>V26</th>\n",
              "      <th>V27</th>\n",
              "      <th>V28</th>\n",
              "      <th>Amount</th>\n",
              "      <th>Class</th>\n",
              "    </tr>\n",
              "  </thead>\n",
              "  <tbody>\n",
              "    <tr>\n",
              "      <th>0</th>\n",
              "      <td>0.0</td>\n",
              "      <td>-1.359807</td>\n",
              "      <td>-0.072781</td>\n",
              "      <td>2.536347</td>\n",
              "      <td>1.378155</td>\n",
              "      <td>-0.338321</td>\n",
              "      <td>0.462388</td>\n",
              "      <td>0.239599</td>\n",
              "      <td>0.098698</td>\n",
              "      <td>0.363787</td>\n",
              "      <td>0.090794</td>\n",
              "      <td>-0.551600</td>\n",
              "      <td>-0.617801</td>\n",
              "      <td>-0.991390</td>\n",
              "      <td>-0.311169</td>\n",
              "      <td>1.468177</td>\n",
              "      <td>-0.470401</td>\n",
              "      <td>0.207971</td>\n",
              "      <td>0.025791</td>\n",
              "      <td>0.403993</td>\n",
              "      <td>0.251412</td>\n",
              "      <td>-0.018307</td>\n",
              "      <td>0.277838</td>\n",
              "      <td>-0.110474</td>\n",
              "      <td>0.066928</td>\n",
              "      <td>0.128539</td>\n",
              "      <td>-0.189115</td>\n",
              "      <td>0.133558</td>\n",
              "      <td>-0.021053</td>\n",
              "      <td>149.62</td>\n",
              "      <td>0</td>\n",
              "    </tr>\n",
              "    <tr>\n",
              "      <th>1</th>\n",
              "      <td>0.0</td>\n",
              "      <td>1.191857</td>\n",
              "      <td>0.266151</td>\n",
              "      <td>0.166480</td>\n",
              "      <td>0.448154</td>\n",
              "      <td>0.060018</td>\n",
              "      <td>-0.082361</td>\n",
              "      <td>-0.078803</td>\n",
              "      <td>0.085102</td>\n",
              "      <td>-0.255425</td>\n",
              "      <td>-0.166974</td>\n",
              "      <td>1.612727</td>\n",
              "      <td>1.065235</td>\n",
              "      <td>0.489095</td>\n",
              "      <td>-0.143772</td>\n",
              "      <td>0.635558</td>\n",
              "      <td>0.463917</td>\n",
              "      <td>-0.114805</td>\n",
              "      <td>-0.183361</td>\n",
              "      <td>-0.145783</td>\n",
              "      <td>-0.069083</td>\n",
              "      <td>-0.225775</td>\n",
              "      <td>-0.638672</td>\n",
              "      <td>0.101288</td>\n",
              "      <td>-0.339846</td>\n",
              "      <td>0.167170</td>\n",
              "      <td>0.125895</td>\n",
              "      <td>-0.008983</td>\n",
              "      <td>0.014724</td>\n",
              "      <td>2.69</td>\n",
              "      <td>0</td>\n",
              "    </tr>\n",
              "    <tr>\n",
              "      <th>2</th>\n",
              "      <td>1.0</td>\n",
              "      <td>-1.358354</td>\n",
              "      <td>-1.340163</td>\n",
              "      <td>1.773209</td>\n",
              "      <td>0.379780</td>\n",
              "      <td>-0.503198</td>\n",
              "      <td>1.800499</td>\n",
              "      <td>0.791461</td>\n",
              "      <td>0.247676</td>\n",
              "      <td>-1.514654</td>\n",
              "      <td>0.207643</td>\n",
              "      <td>0.624501</td>\n",
              "      <td>0.066084</td>\n",
              "      <td>0.717293</td>\n",
              "      <td>-0.165946</td>\n",
              "      <td>2.345865</td>\n",
              "      <td>-2.890083</td>\n",
              "      <td>1.109969</td>\n",
              "      <td>-0.121359</td>\n",
              "      <td>-2.261857</td>\n",
              "      <td>0.524980</td>\n",
              "      <td>0.247998</td>\n",
              "      <td>0.771679</td>\n",
              "      <td>0.909412</td>\n",
              "      <td>-0.689281</td>\n",
              "      <td>-0.327642</td>\n",
              "      <td>-0.139097</td>\n",
              "      <td>-0.055353</td>\n",
              "      <td>-0.059752</td>\n",
              "      <td>378.66</td>\n",
              "      <td>0</td>\n",
              "    </tr>\n",
              "    <tr>\n",
              "      <th>3</th>\n",
              "      <td>1.0</td>\n",
              "      <td>-0.966272</td>\n",
              "      <td>-0.185226</td>\n",
              "      <td>1.792993</td>\n",
              "      <td>-0.863291</td>\n",
              "      <td>-0.010309</td>\n",
              "      <td>1.247203</td>\n",
              "      <td>0.237609</td>\n",
              "      <td>0.377436</td>\n",
              "      <td>-1.387024</td>\n",
              "      <td>-0.054952</td>\n",
              "      <td>-0.226487</td>\n",
              "      <td>0.178228</td>\n",
              "      <td>0.507757</td>\n",
              "      <td>-0.287924</td>\n",
              "      <td>-0.631418</td>\n",
              "      <td>-1.059647</td>\n",
              "      <td>-0.684093</td>\n",
              "      <td>1.965775</td>\n",
              "      <td>-1.232622</td>\n",
              "      <td>-0.208038</td>\n",
              "      <td>-0.108300</td>\n",
              "      <td>0.005274</td>\n",
              "      <td>-0.190321</td>\n",
              "      <td>-1.175575</td>\n",
              "      <td>0.647376</td>\n",
              "      <td>-0.221929</td>\n",
              "      <td>0.062723</td>\n",
              "      <td>0.061458</td>\n",
              "      <td>123.50</td>\n",
              "      <td>0</td>\n",
              "    </tr>\n",
              "    <tr>\n",
              "      <th>4</th>\n",
              "      <td>2.0</td>\n",
              "      <td>-1.158233</td>\n",
              "      <td>0.877737</td>\n",
              "      <td>1.548718</td>\n",
              "      <td>0.403034</td>\n",
              "      <td>-0.407193</td>\n",
              "      <td>0.095921</td>\n",
              "      <td>0.592941</td>\n",
              "      <td>-0.270533</td>\n",
              "      <td>0.817739</td>\n",
              "      <td>0.753074</td>\n",
              "      <td>-0.822843</td>\n",
              "      <td>0.538196</td>\n",
              "      <td>1.345852</td>\n",
              "      <td>-1.119670</td>\n",
              "      <td>0.175121</td>\n",
              "      <td>-0.451449</td>\n",
              "      <td>-0.237033</td>\n",
              "      <td>-0.038195</td>\n",
              "      <td>0.803487</td>\n",
              "      <td>0.408542</td>\n",
              "      <td>-0.009431</td>\n",
              "      <td>0.798278</td>\n",
              "      <td>-0.137458</td>\n",
              "      <td>0.141267</td>\n",
              "      <td>-0.206010</td>\n",
              "      <td>0.502292</td>\n",
              "      <td>0.219422</td>\n",
              "      <td>0.215153</td>\n",
              "      <td>69.99</td>\n",
              "      <td>0</td>\n",
              "    </tr>\n",
              "    <tr>\n",
              "      <th>...</th>\n",
              "      <td>...</td>\n",
              "      <td>...</td>\n",
              "      <td>...</td>\n",
              "      <td>...</td>\n",
              "      <td>...</td>\n",
              "      <td>...</td>\n",
              "      <td>...</td>\n",
              "      <td>...</td>\n",
              "      <td>...</td>\n",
              "      <td>...</td>\n",
              "      <td>...</td>\n",
              "      <td>...</td>\n",
              "      <td>...</td>\n",
              "      <td>...</td>\n",
              "      <td>...</td>\n",
              "      <td>...</td>\n",
              "      <td>...</td>\n",
              "      <td>...</td>\n",
              "      <td>...</td>\n",
              "      <td>...</td>\n",
              "      <td>...</td>\n",
              "      <td>...</td>\n",
              "      <td>...</td>\n",
              "      <td>...</td>\n",
              "      <td>...</td>\n",
              "      <td>...</td>\n",
              "      <td>...</td>\n",
              "      <td>...</td>\n",
              "      <td>...</td>\n",
              "      <td>...</td>\n",
              "      <td>...</td>\n",
              "    </tr>\n",
              "    <tr>\n",
              "      <th>284802</th>\n",
              "      <td>172786.0</td>\n",
              "      <td>-11.881118</td>\n",
              "      <td>10.071785</td>\n",
              "      <td>-9.834783</td>\n",
              "      <td>-2.066656</td>\n",
              "      <td>-5.364473</td>\n",
              "      <td>-2.606837</td>\n",
              "      <td>-4.918215</td>\n",
              "      <td>7.305334</td>\n",
              "      <td>1.914428</td>\n",
              "      <td>4.356170</td>\n",
              "      <td>-1.593105</td>\n",
              "      <td>2.711941</td>\n",
              "      <td>-0.689256</td>\n",
              "      <td>4.626942</td>\n",
              "      <td>-0.924459</td>\n",
              "      <td>1.107641</td>\n",
              "      <td>1.991691</td>\n",
              "      <td>0.510632</td>\n",
              "      <td>-0.682920</td>\n",
              "      <td>1.475829</td>\n",
              "      <td>0.213454</td>\n",
              "      <td>0.111864</td>\n",
              "      <td>1.014480</td>\n",
              "      <td>-0.509348</td>\n",
              "      <td>1.436807</td>\n",
              "      <td>0.250034</td>\n",
              "      <td>0.943651</td>\n",
              "      <td>0.823731</td>\n",
              "      <td>0.77</td>\n",
              "      <td>0</td>\n",
              "    </tr>\n",
              "    <tr>\n",
              "      <th>284803</th>\n",
              "      <td>172787.0</td>\n",
              "      <td>-0.732789</td>\n",
              "      <td>-0.055080</td>\n",
              "      <td>2.035030</td>\n",
              "      <td>-0.738589</td>\n",
              "      <td>0.868229</td>\n",
              "      <td>1.058415</td>\n",
              "      <td>0.024330</td>\n",
              "      <td>0.294869</td>\n",
              "      <td>0.584800</td>\n",
              "      <td>-0.975926</td>\n",
              "      <td>-0.150189</td>\n",
              "      <td>0.915802</td>\n",
              "      <td>1.214756</td>\n",
              "      <td>-0.675143</td>\n",
              "      <td>1.164931</td>\n",
              "      <td>-0.711757</td>\n",
              "      <td>-0.025693</td>\n",
              "      <td>-1.221179</td>\n",
              "      <td>-1.545556</td>\n",
              "      <td>0.059616</td>\n",
              "      <td>0.214205</td>\n",
              "      <td>0.924384</td>\n",
              "      <td>0.012463</td>\n",
              "      <td>-1.016226</td>\n",
              "      <td>-0.606624</td>\n",
              "      <td>-0.395255</td>\n",
              "      <td>0.068472</td>\n",
              "      <td>-0.053527</td>\n",
              "      <td>24.79</td>\n",
              "      <td>0</td>\n",
              "    </tr>\n",
              "    <tr>\n",
              "      <th>284804</th>\n",
              "      <td>172788.0</td>\n",
              "      <td>1.919565</td>\n",
              "      <td>-0.301254</td>\n",
              "      <td>-3.249640</td>\n",
              "      <td>-0.557828</td>\n",
              "      <td>2.630515</td>\n",
              "      <td>3.031260</td>\n",
              "      <td>-0.296827</td>\n",
              "      <td>0.708417</td>\n",
              "      <td>0.432454</td>\n",
              "      <td>-0.484782</td>\n",
              "      <td>0.411614</td>\n",
              "      <td>0.063119</td>\n",
              "      <td>-0.183699</td>\n",
              "      <td>-0.510602</td>\n",
              "      <td>1.329284</td>\n",
              "      <td>0.140716</td>\n",
              "      <td>0.313502</td>\n",
              "      <td>0.395652</td>\n",
              "      <td>-0.577252</td>\n",
              "      <td>0.001396</td>\n",
              "      <td>0.232045</td>\n",
              "      <td>0.578229</td>\n",
              "      <td>-0.037501</td>\n",
              "      <td>0.640134</td>\n",
              "      <td>0.265745</td>\n",
              "      <td>-0.087371</td>\n",
              "      <td>0.004455</td>\n",
              "      <td>-0.026561</td>\n",
              "      <td>67.88</td>\n",
              "      <td>0</td>\n",
              "    </tr>\n",
              "    <tr>\n",
              "      <th>284805</th>\n",
              "      <td>172788.0</td>\n",
              "      <td>-0.240440</td>\n",
              "      <td>0.530483</td>\n",
              "      <td>0.702510</td>\n",
              "      <td>0.689799</td>\n",
              "      <td>-0.377961</td>\n",
              "      <td>0.623708</td>\n",
              "      <td>-0.686180</td>\n",
              "      <td>0.679145</td>\n",
              "      <td>0.392087</td>\n",
              "      <td>-0.399126</td>\n",
              "      <td>-1.933849</td>\n",
              "      <td>-0.962886</td>\n",
              "      <td>-1.042082</td>\n",
              "      <td>0.449624</td>\n",
              "      <td>1.962563</td>\n",
              "      <td>-0.608577</td>\n",
              "      <td>0.509928</td>\n",
              "      <td>1.113981</td>\n",
              "      <td>2.897849</td>\n",
              "      <td>0.127434</td>\n",
              "      <td>0.265245</td>\n",
              "      <td>0.800049</td>\n",
              "      <td>-0.163298</td>\n",
              "      <td>0.123205</td>\n",
              "      <td>-0.569159</td>\n",
              "      <td>0.546668</td>\n",
              "      <td>0.108821</td>\n",
              "      <td>0.104533</td>\n",
              "      <td>10.00</td>\n",
              "      <td>0</td>\n",
              "    </tr>\n",
              "    <tr>\n",
              "      <th>284806</th>\n",
              "      <td>172792.0</td>\n",
              "      <td>-0.533413</td>\n",
              "      <td>-0.189733</td>\n",
              "      <td>0.703337</td>\n",
              "      <td>-0.506271</td>\n",
              "      <td>-0.012546</td>\n",
              "      <td>-0.649617</td>\n",
              "      <td>1.577006</td>\n",
              "      <td>-0.414650</td>\n",
              "      <td>0.486180</td>\n",
              "      <td>-0.915427</td>\n",
              "      <td>-1.040458</td>\n",
              "      <td>-0.031513</td>\n",
              "      <td>-0.188093</td>\n",
              "      <td>-0.084316</td>\n",
              "      <td>0.041333</td>\n",
              "      <td>-0.302620</td>\n",
              "      <td>-0.660377</td>\n",
              "      <td>0.167430</td>\n",
              "      <td>-0.256117</td>\n",
              "      <td>0.382948</td>\n",
              "      <td>0.261057</td>\n",
              "      <td>0.643078</td>\n",
              "      <td>0.376777</td>\n",
              "      <td>0.008797</td>\n",
              "      <td>-0.473649</td>\n",
              "      <td>-0.818267</td>\n",
              "      <td>-0.002415</td>\n",
              "      <td>0.013649</td>\n",
              "      <td>217.00</td>\n",
              "      <td>0</td>\n",
              "    </tr>\n",
              "  </tbody>\n",
              "</table>\n",
              "<p>284807 rows × 31 columns</p>\n",
              "</div>"
            ],
            "text/plain": [
              "            Time         V1         V2  ...       V28  Amount  Class\n",
              "0            0.0  -1.359807  -0.072781  ... -0.021053  149.62      0\n",
              "1            0.0   1.191857   0.266151  ...  0.014724    2.69      0\n",
              "2            1.0  -1.358354  -1.340163  ... -0.059752  378.66      0\n",
              "3            1.0  -0.966272  -0.185226  ...  0.061458  123.50      0\n",
              "4            2.0  -1.158233   0.877737  ...  0.215153   69.99      0\n",
              "...          ...        ...        ...  ...       ...     ...    ...\n",
              "284802  172786.0 -11.881118  10.071785  ...  0.823731    0.77      0\n",
              "284803  172787.0  -0.732789  -0.055080  ... -0.053527   24.79      0\n",
              "284804  172788.0   1.919565  -0.301254  ... -0.026561   67.88      0\n",
              "284805  172788.0  -0.240440   0.530483  ...  0.104533   10.00      0\n",
              "284806  172792.0  -0.533413  -0.189733  ...  0.013649  217.00      0\n",
              "\n",
              "[284807 rows x 31 columns]"
            ]
          },
          "metadata": {
            "tags": []
          },
          "execution_count": 5
        }
      ]
    },
    {
      "cell_type": "code",
      "metadata": {
        "colab": {
          "base_uri": "https://localhost:8080/"
        },
        "id": "VSO6zZAUENiR",
        "outputId": "ee270234-5799-4749-a04c-20e4c9ab48f6"
      },
      "source": [
        "non_fraud=df[df[\"Class\"]==0]\n",
        "fraud = df[df[\"Class\"]==1]\n",
        "non_fraud.shape, fraud.shape"
      ],
      "execution_count": 6,
      "outputs": [
        {
          "output_type": "execute_result",
          "data": {
            "text/plain": [
              "((284315, 31), (492, 31))"
            ]
          },
          "metadata": {
            "tags": []
          },
          "execution_count": 6
        }
      ]
    },
    {
      "cell_type": "code",
      "metadata": {
        "colab": {
          "base_uri": "https://localhost:8080/"
        },
        "id": "7hgK397EENlQ",
        "outputId": "a33b9034-8b93-405e-b125-bb9b85cbcdc1"
      },
      "source": [
        "non_fraud=non_fraud.sample(fraud.shape[0])\n",
        "non_fraud.shape"
      ],
      "execution_count": 7,
      "outputs": [
        {
          "output_type": "execute_result",
          "data": {
            "text/plain": [
              "(492, 31)"
            ]
          },
          "metadata": {
            "tags": []
          },
          "execution_count": 7
        }
      ]
    },
    {
      "cell_type": "code",
      "metadata": {
        "colab": {
          "base_uri": "https://localhost:8080/"
        },
        "id": "E9NXenbrFcQM",
        "outputId": "7e0d8364-0a8a-471c-e29e-e2534c8e5149"
      },
      "source": [
        "data = fraud.append(non_fraud, ignore_index=True)\n",
        "data.shape\n",
        "data[\"Class\"].value_counts()"
      ],
      "execution_count": 8,
      "outputs": [
        {
          "output_type": "execute_result",
          "data": {
            "text/plain": [
              "1    492\n",
              "0    492\n",
              "Name: Class, dtype: int64"
            ]
          },
          "metadata": {
            "tags": []
          },
          "execution_count": 8
        }
      ]
    },
    {
      "cell_type": "code",
      "metadata": {
        "id": "zO_S4RBKFcV4"
      },
      "source": [
        "x_data= data.drop(columns=\"Class\", axis=0)\n",
        "label = data[\"Class\"]"
      ],
      "execution_count": 9,
      "outputs": []
    },
    {
      "cell_type": "code",
      "metadata": {
        "id": "i54Z1i07FcZo"
      },
      "source": [
        "train_data, test_data, train_labels, test_labels=train_test_split(x_data, label, test_size=0.3, random_state=0, stratify = label)"
      ],
      "execution_count": 10,
      "outputs": []
    },
    {
      "cell_type": "code",
      "metadata": {
        "colab": {
          "base_uri": "https://localhost:8080/"
        },
        "id": "5T4Pe4rPFcd8",
        "outputId": "aa6a8ce5-a037-44cd-9f87-8e6366b5be3b"
      },
      "source": [
        "train_data.shape, test_data.shape"
      ],
      "execution_count": 11,
      "outputs": [
        {
          "output_type": "execute_result",
          "data": {
            "text/plain": [
              "((688, 30), (296, 30))"
            ]
          },
          "metadata": {
            "tags": []
          },
          "execution_count": 11
        }
      ]
    },
    {
      "cell_type": "code",
      "metadata": {
        "id": "68jFlq3cFckq"
      },
      "source": [
        "mean=train_data.mean(axis=0)\n",
        "std=train_data.std(axis=0)\n",
        "train_data = (train_data-mean)/std\n",
        "test_data = (test_data-mean)/std"
      ],
      "execution_count": 12,
      "outputs": []
    },
    {
      "cell_type": "code",
      "metadata": {
        "id": "nmG2A4sHGap7"
      },
      "source": [
        "train_labels=np.asarray(train_labels).astype(dtype=\"float64\")\n",
        "test_labels=np.asarray(test_labels).astype(dtype=\"float64\")"
      ],
      "execution_count": 13,
      "outputs": []
    },
    {
      "cell_type": "code",
      "metadata": {
        "id": "CytajETRGats"
      },
      "source": [
        "model= models.Sequential()\n",
        "model.add(layers.Dense(20, activation=\"relu\", input_shape=(train_data.shape[1],)))\n",
        "model.add(layers.Dense(10, activation=\"relu\"))\n",
        "model.add(layers.Dense(8,activation=\"relu\"))\n",
        "model.add(layers.Dense(6,activation=\"relu\"))\n",
        "model.add(layers.Dense(1,activation=\"sigmoid\"))\n",
        "\n",
        "model.compile(optimizer=\"adam\", loss=\"binary_crossentropy\", metrics=[\"accuracy\"])"
      ],
      "execution_count": 70,
      "outputs": []
    },
    {
      "cell_type": "code",
      "metadata": {
        "id": "SEbwNU1DoLYa"
      },
      "source": [
        "x_val = train_data[:1000]\n",
        "partial_x_train_data = train_data[1000:]"
      ],
      "execution_count": 71,
      "outputs": []
    },
    {
      "cell_type": "code",
      "metadata": {
        "id": "aYDiAzMCoLnN"
      },
      "source": [
        "y_val = train_data[:1000]\n",
        "partial_y_train_data = train_data[1000:]"
      ],
      "execution_count": 72,
      "outputs": []
    },
    {
      "cell_type": "code",
      "metadata": {
        "colab": {
          "base_uri": "https://localhost:8080/"
        },
        "id": "2mCC-Sp6GawT",
        "outputId": "7e437211-581d-4284-d7b8-e001320f15af"
      },
      "source": [
        "history=model.fit(train_data, train_labels, epochs=150, validation_split=.2)"
      ],
      "execution_count": 73,
      "outputs": [
        {
          "output_type": "stream",
          "text": [
            "Epoch 1/150\n",
            "18/18 [==============================] - 1s 16ms/step - loss: 0.6904 - accuracy: 0.6361 - val_loss: 0.6825 - val_accuracy: 0.7536\n",
            "Epoch 2/150\n",
            "18/18 [==============================] - 0s 4ms/step - loss: 0.6777 - accuracy: 0.7931 - val_loss: 0.6551 - val_accuracy: 0.7899\n",
            "Epoch 3/150\n",
            "18/18 [==============================] - 0s 4ms/step - loss: 0.6399 - accuracy: 0.8404 - val_loss: 0.5991 - val_accuracy: 0.7971\n",
            "Epoch 4/150\n",
            "18/18 [==============================] - 0s 4ms/step - loss: 0.5603 - accuracy: 0.8809 - val_loss: 0.5350 - val_accuracy: 0.8188\n",
            "Epoch 5/150\n",
            "18/18 [==============================] - 0s 5ms/step - loss: 0.4762 - accuracy: 0.9104 - val_loss: 0.4739 - val_accuracy: 0.8261\n",
            "Epoch 6/150\n",
            "18/18 [==============================] - 0s 4ms/step - loss: 0.3944 - accuracy: 0.9080 - val_loss: 0.4159 - val_accuracy: 0.8406\n",
            "Epoch 7/150\n",
            "18/18 [==============================] - 0s 4ms/step - loss: 0.3422 - accuracy: 0.9092 - val_loss: 0.3664 - val_accuracy: 0.8551\n",
            "Epoch 8/150\n",
            "18/18 [==============================] - 0s 4ms/step - loss: 0.2730 - accuracy: 0.9239 - val_loss: 0.3265 - val_accuracy: 0.8623\n",
            "Epoch 9/150\n",
            "18/18 [==============================] - 0s 5ms/step - loss: 0.2532 - accuracy: 0.9259 - val_loss: 0.2919 - val_accuracy: 0.8913\n",
            "Epoch 10/150\n",
            "18/18 [==============================] - 0s 4ms/step - loss: 0.1919 - accuracy: 0.9427 - val_loss: 0.2777 - val_accuracy: 0.8841\n",
            "Epoch 11/150\n",
            "18/18 [==============================] - 0s 4ms/step - loss: 0.1820 - accuracy: 0.9372 - val_loss: 0.2642 - val_accuracy: 0.8841\n",
            "Epoch 12/150\n",
            "18/18 [==============================] - 0s 4ms/step - loss: 0.1403 - accuracy: 0.9593 - val_loss: 0.2538 - val_accuracy: 0.8913\n",
            "Epoch 13/150\n",
            "18/18 [==============================] - 0s 6ms/step - loss: 0.1310 - accuracy: 0.9643 - val_loss: 0.2493 - val_accuracy: 0.8986\n",
            "Epoch 14/150\n",
            "18/18 [==============================] - 0s 5ms/step - loss: 0.0970 - accuracy: 0.9757 - val_loss: 0.2458 - val_accuracy: 0.8986\n",
            "Epoch 15/150\n",
            "18/18 [==============================] - 0s 4ms/step - loss: 0.1325 - accuracy: 0.9649 - val_loss: 0.2423 - val_accuracy: 0.9058\n",
            "Epoch 16/150\n",
            "18/18 [==============================] - 0s 4ms/step - loss: 0.1225 - accuracy: 0.9657 - val_loss: 0.2439 - val_accuracy: 0.9130\n",
            "Epoch 17/150\n",
            "18/18 [==============================] - 0s 4ms/step - loss: 0.0894 - accuracy: 0.9804 - val_loss: 0.2414 - val_accuracy: 0.9130\n",
            "Epoch 18/150\n",
            "18/18 [==============================] - 0s 4ms/step - loss: 0.0922 - accuracy: 0.9726 - val_loss: 0.2430 - val_accuracy: 0.9058\n",
            "Epoch 19/150\n",
            "18/18 [==============================] - 0s 4ms/step - loss: 0.0997 - accuracy: 0.9750 - val_loss: 0.2464 - val_accuracy: 0.9058\n",
            "Epoch 20/150\n",
            "18/18 [==============================] - 0s 5ms/step - loss: 0.0665 - accuracy: 0.9832 - val_loss: 0.2478 - val_accuracy: 0.9130\n",
            "Epoch 21/150\n",
            "18/18 [==============================] - 0s 5ms/step - loss: 0.0889 - accuracy: 0.9754 - val_loss: 0.2468 - val_accuracy: 0.9058\n",
            "Epoch 22/150\n",
            "18/18 [==============================] - 0s 5ms/step - loss: 0.0924 - accuracy: 0.9739 - val_loss: 0.2496 - val_accuracy: 0.9058\n",
            "Epoch 23/150\n",
            "18/18 [==============================] - 0s 4ms/step - loss: 0.0996 - accuracy: 0.9664 - val_loss: 0.2513 - val_accuracy: 0.8986\n",
            "Epoch 24/150\n",
            "18/18 [==============================] - 0s 5ms/step - loss: 0.0722 - accuracy: 0.9753 - val_loss: 0.2543 - val_accuracy: 0.9130\n",
            "Epoch 25/150\n",
            "18/18 [==============================] - 0s 4ms/step - loss: 0.0650 - accuracy: 0.9838 - val_loss: 0.2587 - val_accuracy: 0.8986\n",
            "Epoch 26/150\n",
            "18/18 [==============================] - 0s 4ms/step - loss: 0.0860 - accuracy: 0.9736 - val_loss: 0.2567 - val_accuracy: 0.8986\n",
            "Epoch 27/150\n",
            "18/18 [==============================] - 0s 4ms/step - loss: 0.0563 - accuracy: 0.9857 - val_loss: 0.2584 - val_accuracy: 0.8913\n",
            "Epoch 28/150\n",
            "18/18 [==============================] - 0s 4ms/step - loss: 0.0788 - accuracy: 0.9730 - val_loss: 0.2559 - val_accuracy: 0.8986\n",
            "Epoch 29/150\n",
            "18/18 [==============================] - 0s 5ms/step - loss: 0.0526 - accuracy: 0.9831 - val_loss: 0.2618 - val_accuracy: 0.8986\n",
            "Epoch 30/150\n",
            "18/18 [==============================] - 0s 4ms/step - loss: 0.0858 - accuracy: 0.9721 - val_loss: 0.2474 - val_accuracy: 0.8986\n",
            "Epoch 31/150\n",
            "18/18 [==============================] - 0s 5ms/step - loss: 0.0605 - accuracy: 0.9810 - val_loss: 0.2572 - val_accuracy: 0.8986\n",
            "Epoch 32/150\n",
            "18/18 [==============================] - 0s 4ms/step - loss: 0.0484 - accuracy: 0.9851 - val_loss: 0.2551 - val_accuracy: 0.8986\n",
            "Epoch 33/150\n",
            "18/18 [==============================] - 0s 4ms/step - loss: 0.0511 - accuracy: 0.9815 - val_loss: 0.2584 - val_accuracy: 0.8986\n",
            "Epoch 34/150\n",
            "18/18 [==============================] - 0s 4ms/step - loss: 0.0598 - accuracy: 0.9804 - val_loss: 0.2625 - val_accuracy: 0.8986\n",
            "Epoch 35/150\n",
            "18/18 [==============================] - 0s 4ms/step - loss: 0.0627 - accuracy: 0.9794 - val_loss: 0.2676 - val_accuracy: 0.8986\n",
            "Epoch 36/150\n",
            "18/18 [==============================] - 0s 4ms/step - loss: 0.0755 - accuracy: 0.9762 - val_loss: 0.2699 - val_accuracy: 0.8986\n",
            "Epoch 37/150\n",
            "18/18 [==============================] - 0s 4ms/step - loss: 0.0591 - accuracy: 0.9772 - val_loss: 0.2721 - val_accuracy: 0.8986\n",
            "Epoch 38/150\n",
            "18/18 [==============================] - 0s 4ms/step - loss: 0.0464 - accuracy: 0.9840 - val_loss: 0.2736 - val_accuracy: 0.8986\n",
            "Epoch 39/150\n",
            "18/18 [==============================] - 0s 4ms/step - loss: 0.0409 - accuracy: 0.9852 - val_loss: 0.2788 - val_accuracy: 0.8986\n",
            "Epoch 40/150\n",
            "18/18 [==============================] - 0s 4ms/step - loss: 0.0505 - accuracy: 0.9862 - val_loss: 0.2806 - val_accuracy: 0.8986\n",
            "Epoch 41/150\n",
            "18/18 [==============================] - 0s 4ms/step - loss: 0.0353 - accuracy: 0.9900 - val_loss: 0.2860 - val_accuracy: 0.8986\n",
            "Epoch 42/150\n",
            "18/18 [==============================] - 0s 4ms/step - loss: 0.0444 - accuracy: 0.9825 - val_loss: 0.2839 - val_accuracy: 0.8986\n",
            "Epoch 43/150\n",
            "18/18 [==============================] - 0s 5ms/step - loss: 0.0393 - accuracy: 0.9875 - val_loss: 0.2871 - val_accuracy: 0.8986\n",
            "Epoch 44/150\n",
            "18/18 [==============================] - 0s 4ms/step - loss: 0.0606 - accuracy: 0.9845 - val_loss: 0.2920 - val_accuracy: 0.8986\n",
            "Epoch 45/150\n",
            "18/18 [==============================] - 0s 4ms/step - loss: 0.0516 - accuracy: 0.9849 - val_loss: 0.2811 - val_accuracy: 0.9058\n",
            "Epoch 46/150\n",
            "18/18 [==============================] - 0s 4ms/step - loss: 0.0440 - accuracy: 0.9848 - val_loss: 0.2941 - val_accuracy: 0.8986\n",
            "Epoch 47/150\n",
            "18/18 [==============================] - 0s 4ms/step - loss: 0.0626 - accuracy: 0.9824 - val_loss: 0.2929 - val_accuracy: 0.9058\n",
            "Epoch 48/150\n",
            "18/18 [==============================] - 0s 5ms/step - loss: 0.0327 - accuracy: 0.9897 - val_loss: 0.3039 - val_accuracy: 0.9058\n",
            "Epoch 49/150\n",
            "18/18 [==============================] - 0s 4ms/step - loss: 0.0279 - accuracy: 0.9930 - val_loss: 0.3063 - val_accuracy: 0.9058\n",
            "Epoch 50/150\n",
            "18/18 [==============================] - 0s 4ms/step - loss: 0.0509 - accuracy: 0.9873 - val_loss: 0.3107 - val_accuracy: 0.8986\n",
            "Epoch 51/150\n",
            "18/18 [==============================] - 0s 4ms/step - loss: 0.0372 - accuracy: 0.9920 - val_loss: 0.3090 - val_accuracy: 0.9130\n",
            "Epoch 52/150\n",
            "18/18 [==============================] - 0s 4ms/step - loss: 0.0439 - accuracy: 0.9889 - val_loss: 0.3108 - val_accuracy: 0.9058\n",
            "Epoch 53/150\n",
            "18/18 [==============================] - 0s 4ms/step - loss: 0.0446 - accuracy: 0.9880 - val_loss: 0.3182 - val_accuracy: 0.8986\n",
            "Epoch 54/150\n",
            "18/18 [==============================] - 0s 4ms/step - loss: 0.0227 - accuracy: 0.9930 - val_loss: 0.3236 - val_accuracy: 0.8986\n",
            "Epoch 55/150\n",
            "18/18 [==============================] - 0s 4ms/step - loss: 0.0286 - accuracy: 0.9920 - val_loss: 0.3270 - val_accuracy: 0.8986\n",
            "Epoch 56/150\n",
            "18/18 [==============================] - 0s 5ms/step - loss: 0.0354 - accuracy: 0.9926 - val_loss: 0.3273 - val_accuracy: 0.8986\n",
            "Epoch 57/150\n",
            "18/18 [==============================] - 0s 4ms/step - loss: 0.0273 - accuracy: 0.9918 - val_loss: 0.3388 - val_accuracy: 0.8986\n",
            "Epoch 58/150\n",
            "18/18 [==============================] - 0s 4ms/step - loss: 0.0296 - accuracy: 0.9916 - val_loss: 0.3246 - val_accuracy: 0.9058\n",
            "Epoch 59/150\n",
            "18/18 [==============================] - 0s 4ms/step - loss: 0.0241 - accuracy: 0.9953 - val_loss: 0.3365 - val_accuracy: 0.8986\n",
            "Epoch 60/150\n",
            "18/18 [==============================] - 0s 4ms/step - loss: 0.0349 - accuracy: 0.9928 - val_loss: 0.3358 - val_accuracy: 0.9058\n",
            "Epoch 61/150\n",
            "18/18 [==============================] - 0s 4ms/step - loss: 0.0255 - accuracy: 0.9919 - val_loss: 0.3438 - val_accuracy: 0.9058\n",
            "Epoch 62/150\n",
            "18/18 [==============================] - 0s 5ms/step - loss: 0.0258 - accuracy: 0.9967 - val_loss: 0.3506 - val_accuracy: 0.8986\n",
            "Epoch 63/150\n",
            "18/18 [==============================] - 0s 4ms/step - loss: 0.0221 - accuracy: 0.9960 - val_loss: 0.3569 - val_accuracy: 0.8986\n",
            "Epoch 64/150\n",
            "18/18 [==============================] - 0s 4ms/step - loss: 0.0281 - accuracy: 0.9916 - val_loss: 0.3529 - val_accuracy: 0.9058\n",
            "Epoch 65/150\n",
            "18/18 [==============================] - 0s 4ms/step - loss: 0.0340 - accuracy: 0.9892 - val_loss: 0.3630 - val_accuracy: 0.8986\n",
            "Epoch 66/150\n",
            "18/18 [==============================] - 0s 4ms/step - loss: 0.0207 - accuracy: 0.9968 - val_loss: 0.3550 - val_accuracy: 0.9058\n",
            "Epoch 67/150\n",
            "18/18 [==============================] - 0s 4ms/step - loss: 0.0313 - accuracy: 0.9895 - val_loss: 0.3481 - val_accuracy: 0.9130\n",
            "Epoch 68/150\n",
            "18/18 [==============================] - 0s 4ms/step - loss: 0.0285 - accuracy: 0.9924 - val_loss: 0.3548 - val_accuracy: 0.9130\n",
            "Epoch 69/150\n",
            "18/18 [==============================] - 0s 4ms/step - loss: 0.0242 - accuracy: 0.9967 - val_loss: 0.3604 - val_accuracy: 0.9058\n",
            "Epoch 70/150\n",
            "18/18 [==============================] - 0s 4ms/step - loss: 0.0228 - accuracy: 0.9967 - val_loss: 0.3678 - val_accuracy: 0.8986\n",
            "Epoch 71/150\n",
            "18/18 [==============================] - 0s 4ms/step - loss: 0.0251 - accuracy: 0.9933 - val_loss: 0.3699 - val_accuracy: 0.9058\n",
            "Epoch 72/150\n",
            "18/18 [==============================] - 0s 5ms/step - loss: 0.0246 - accuracy: 0.9947 - val_loss: 0.3668 - val_accuracy: 0.9058\n",
            "Epoch 73/150\n",
            "18/18 [==============================] - 0s 4ms/step - loss: 0.0254 - accuracy: 0.9950 - val_loss: 0.3821 - val_accuracy: 0.8986\n",
            "Epoch 74/150\n",
            "18/18 [==============================] - 0s 4ms/step - loss: 0.0104 - accuracy: 0.9994 - val_loss: 0.3806 - val_accuracy: 0.9058\n",
            "Epoch 75/150\n",
            "18/18 [==============================] - 0s 4ms/step - loss: 0.0254 - accuracy: 0.9954 - val_loss: 0.3781 - val_accuracy: 0.8986\n",
            "Epoch 76/150\n",
            "18/18 [==============================] - 0s 4ms/step - loss: 0.0166 - accuracy: 0.9972 - val_loss: 0.3788 - val_accuracy: 0.9058\n",
            "Epoch 77/150\n",
            "18/18 [==============================] - 0s 4ms/step - loss: 0.0280 - accuracy: 0.9952 - val_loss: 0.3777 - val_accuracy: 0.9058\n",
            "Epoch 78/150\n",
            "18/18 [==============================] - 0s 4ms/step - loss: 0.0228 - accuracy: 0.9921 - val_loss: 0.3790 - val_accuracy: 0.9058\n",
            "Epoch 79/150\n",
            "18/18 [==============================] - 0s 4ms/step - loss: 0.0122 - accuracy: 0.9970 - val_loss: 0.3857 - val_accuracy: 0.9058\n",
            "Epoch 80/150\n",
            "18/18 [==============================] - 0s 4ms/step - loss: 0.0228 - accuracy: 0.9934 - val_loss: 0.3869 - val_accuracy: 0.9058\n",
            "Epoch 81/150\n",
            "18/18 [==============================] - 0s 5ms/step - loss: 0.0131 - accuracy: 0.9970 - val_loss: 0.3955 - val_accuracy: 0.9058\n",
            "Epoch 82/150\n",
            "18/18 [==============================] - 0s 5ms/step - loss: 0.0199 - accuracy: 0.9951 - val_loss: 0.3940 - val_accuracy: 0.9058\n",
            "Epoch 83/150\n",
            "18/18 [==============================] - 0s 5ms/step - loss: 0.0115 - accuracy: 0.9982 - val_loss: 0.4022 - val_accuracy: 0.9058\n",
            "Epoch 84/150\n",
            "18/18 [==============================] - 0s 4ms/step - loss: 0.0250 - accuracy: 0.9940 - val_loss: 0.3984 - val_accuracy: 0.9130\n",
            "Epoch 85/150\n",
            "18/18 [==============================] - 0s 4ms/step - loss: 0.0130 - accuracy: 0.9965 - val_loss: 0.4066 - val_accuracy: 0.9058\n",
            "Epoch 86/150\n",
            "18/18 [==============================] - 0s 4ms/step - loss: 0.0119 - accuracy: 0.9964 - val_loss: 0.4092 - val_accuracy: 0.9058\n",
            "Epoch 87/150\n",
            "18/18 [==============================] - 0s 4ms/step - loss: 0.0100 - accuracy: 0.9978 - val_loss: 0.4160 - val_accuracy: 0.9130\n",
            "Epoch 88/150\n",
            "18/18 [==============================] - 0s 4ms/step - loss: 0.0118 - accuracy: 0.9988 - val_loss: 0.4161 - val_accuracy: 0.9130\n",
            "Epoch 89/150\n",
            "18/18 [==============================] - 0s 4ms/step - loss: 0.0108 - accuracy: 0.9993 - val_loss: 0.4183 - val_accuracy: 0.9130\n",
            "Epoch 90/150\n",
            "18/18 [==============================] - 0s 4ms/step - loss: 0.0146 - accuracy: 0.9979 - val_loss: 0.4230 - val_accuracy: 0.9130\n",
            "Epoch 91/150\n",
            "18/18 [==============================] - 0s 4ms/step - loss: 0.0069 - accuracy: 0.9997 - val_loss: 0.4259 - val_accuracy: 0.9130\n",
            "Epoch 92/150\n",
            "18/18 [==============================] - 0s 4ms/step - loss: 0.0054 - accuracy: 0.9997 - val_loss: 0.4256 - val_accuracy: 0.9058\n",
            "Epoch 93/150\n",
            "18/18 [==============================] - 0s 5ms/step - loss: 0.0122 - accuracy: 0.9982 - val_loss: 0.4277 - val_accuracy: 0.9130\n",
            "Epoch 94/150\n",
            "18/18 [==============================] - 0s 4ms/step - loss: 0.0180 - accuracy: 0.9966 - val_loss: 0.4348 - val_accuracy: 0.9130\n",
            "Epoch 95/150\n",
            "18/18 [==============================] - 0s 4ms/step - loss: 0.0078 - accuracy: 0.9994 - val_loss: 0.4440 - val_accuracy: 0.9130\n",
            "Epoch 96/150\n",
            "18/18 [==============================] - 0s 4ms/step - loss: 0.0155 - accuracy: 0.9972 - val_loss: 0.4380 - val_accuracy: 0.9130\n",
            "Epoch 97/150\n",
            "18/18 [==============================] - 0s 4ms/step - loss: 0.0114 - accuracy: 0.9984 - val_loss: 0.4399 - val_accuracy: 0.9130\n",
            "Epoch 98/150\n",
            "18/18 [==============================] - 0s 4ms/step - loss: 0.0239 - accuracy: 0.9942 - val_loss: 0.4466 - val_accuracy: 0.9058\n",
            "Epoch 99/150\n",
            "18/18 [==============================] - 0s 4ms/step - loss: 0.0137 - accuracy: 0.9976 - val_loss: 0.4497 - val_accuracy: 0.8986\n",
            "Epoch 100/150\n",
            "18/18 [==============================] - 0s 4ms/step - loss: 0.0068 - accuracy: 0.9993 - val_loss: 0.4551 - val_accuracy: 0.9058\n",
            "Epoch 101/150\n",
            "18/18 [==============================] - 0s 4ms/step - loss: 0.0178 - accuracy: 0.9958 - val_loss: 0.4473 - val_accuracy: 0.9130\n",
            "Epoch 102/150\n",
            "18/18 [==============================] - 0s 4ms/step - loss: 0.0153 - accuracy: 0.9966 - val_loss: 0.4553 - val_accuracy: 0.9058\n",
            "Epoch 103/150\n",
            "18/18 [==============================] - 0s 4ms/step - loss: 0.0106 - accuracy: 0.9982 - val_loss: 0.4590 - val_accuracy: 0.9058\n",
            "Epoch 104/150\n",
            "18/18 [==============================] - 0s 4ms/step - loss: 0.0094 - accuracy: 0.9984 - val_loss: 0.4617 - val_accuracy: 0.9058\n",
            "Epoch 105/150\n",
            "18/18 [==============================] - 0s 5ms/step - loss: 0.0054 - accuracy: 0.9995 - val_loss: 0.4667 - val_accuracy: 0.9058\n",
            "Epoch 106/150\n",
            "18/18 [==============================] - 0s 4ms/step - loss: 0.0089 - accuracy: 0.9984 - val_loss: 0.4605 - val_accuracy: 0.9130\n",
            "Epoch 107/150\n",
            "18/18 [==============================] - 0s 4ms/step - loss: 0.0057 - accuracy: 0.9997 - val_loss: 0.4804 - val_accuracy: 0.9058\n",
            "Epoch 108/150\n",
            "18/18 [==============================] - 0s 4ms/step - loss: 0.0071 - accuracy: 0.9991 - val_loss: 0.4730 - val_accuracy: 0.9058\n",
            "Epoch 109/150\n",
            "18/18 [==============================] - 0s 4ms/step - loss: 0.0114 - accuracy: 0.9976 - val_loss: 0.4711 - val_accuracy: 0.9058\n",
            "Epoch 110/150\n",
            "18/18 [==============================] - 0s 5ms/step - loss: 0.0067 - accuracy: 0.9991 - val_loss: 0.4783 - val_accuracy: 0.9058\n",
            "Epoch 111/150\n",
            "18/18 [==============================] - 0s 4ms/step - loss: 0.0081 - accuracy: 0.9984 - val_loss: 0.4830 - val_accuracy: 0.9058\n",
            "Epoch 112/150\n",
            "18/18 [==============================] - 0s 5ms/step - loss: 0.0046 - accuracy: 0.9996 - val_loss: 0.4893 - val_accuracy: 0.8986\n",
            "Epoch 113/150\n",
            "18/18 [==============================] - 0s 4ms/step - loss: 0.0072 - accuracy: 0.9986 - val_loss: 0.4855 - val_accuracy: 0.9058\n",
            "Epoch 114/150\n",
            "18/18 [==============================] - 0s 4ms/step - loss: 0.0125 - accuracy: 0.9966 - val_loss: 0.4871 - val_accuracy: 0.9058\n",
            "Epoch 115/150\n",
            "18/18 [==============================] - 0s 4ms/step - loss: 0.0105 - accuracy: 0.9972 - val_loss: 0.4944 - val_accuracy: 0.9058\n",
            "Epoch 116/150\n",
            "18/18 [==============================] - 0s 4ms/step - loss: 0.0088 - accuracy: 0.9979 - val_loss: 0.4922 - val_accuracy: 0.9058\n",
            "Epoch 117/150\n",
            "18/18 [==============================] - 0s 4ms/step - loss: 0.0079 - accuracy: 0.9984 - val_loss: 0.4970 - val_accuracy: 0.9058\n",
            "Epoch 118/150\n",
            "18/18 [==============================] - 0s 5ms/step - loss: 0.0042 - accuracy: 0.9997 - val_loss: 0.5030 - val_accuracy: 0.9058\n",
            "Epoch 119/150\n",
            "18/18 [==============================] - 0s 5ms/step - loss: 0.0183 - accuracy: 0.9942 - val_loss: 0.5060 - val_accuracy: 0.9058\n",
            "Epoch 120/150\n",
            "18/18 [==============================] - 0s 4ms/step - loss: 0.0060 - accuracy: 0.9988 - val_loss: 0.5007 - val_accuracy: 0.9058\n",
            "Epoch 121/150\n",
            "18/18 [==============================] - 0s 4ms/step - loss: 0.0172 - accuracy: 0.9942 - val_loss: 0.5086 - val_accuracy: 0.9058\n",
            "Epoch 122/150\n",
            "18/18 [==============================] - 0s 4ms/step - loss: 0.0042 - accuracy: 0.9994 - val_loss: 0.5203 - val_accuracy: 0.8986\n",
            "Epoch 123/150\n",
            "18/18 [==============================] - 0s 4ms/step - loss: 0.0060 - accuracy: 0.9990 - val_loss: 0.5161 - val_accuracy: 0.9058\n",
            "Epoch 124/150\n",
            "18/18 [==============================] - 0s 5ms/step - loss: 0.0046 - accuracy: 0.9995 - val_loss: 0.5217 - val_accuracy: 0.9058\n",
            "Epoch 125/150\n",
            "18/18 [==============================] - 0s 4ms/step - loss: 0.0060 - accuracy: 0.9984 - val_loss: 0.5291 - val_accuracy: 0.8986\n",
            "Epoch 126/150\n",
            "18/18 [==============================] - 0s 4ms/step - loss: 0.0034 - accuracy: 0.9997 - val_loss: 0.5279 - val_accuracy: 0.8986\n",
            "Epoch 127/150\n",
            "18/18 [==============================] - 0s 4ms/step - loss: 0.0036 - accuracy: 0.9995 - val_loss: 0.5254 - val_accuracy: 0.9058\n",
            "Epoch 128/150\n",
            "18/18 [==============================] - 0s 4ms/step - loss: 0.0072 - accuracy: 0.9982 - val_loss: 0.5303 - val_accuracy: 0.9058\n",
            "Epoch 129/150\n",
            "18/18 [==============================] - 0s 4ms/step - loss: 0.0033 - accuracy: 0.9997 - val_loss: 0.5381 - val_accuracy: 0.8986\n",
            "Epoch 130/150\n",
            "18/18 [==============================] - 0s 5ms/step - loss: 0.0033 - accuracy: 0.9997 - val_loss: 0.5498 - val_accuracy: 0.8913\n",
            "Epoch 131/150\n",
            "18/18 [==============================] - 0s 5ms/step - loss: 0.0050 - accuracy: 0.9986 - val_loss: 0.5352 - val_accuracy: 0.9058\n",
            "Epoch 132/150\n",
            "18/18 [==============================] - 0s 4ms/step - loss: 0.0145 - accuracy: 0.9942 - val_loss: 0.5409 - val_accuracy: 0.8986\n",
            "Epoch 133/150\n",
            "18/18 [==============================] - 0s 4ms/step - loss: 0.0075 - accuracy: 0.9976 - val_loss: 0.5447 - val_accuracy: 0.8986\n",
            "Epoch 134/150\n",
            "18/18 [==============================] - 0s 4ms/step - loss: 0.0074 - accuracy: 0.9976 - val_loss: 0.5486 - val_accuracy: 0.9058\n",
            "Epoch 135/150\n",
            "18/18 [==============================] - 0s 4ms/step - loss: 0.0078 - accuracy: 0.9972 - val_loss: 0.5549 - val_accuracy: 0.8986\n",
            "Epoch 136/150\n",
            "18/18 [==============================] - 0s 4ms/step - loss: 0.0134 - accuracy: 0.9942 - val_loss: 0.5565 - val_accuracy: 0.8986\n",
            "Epoch 137/150\n",
            "18/18 [==============================] - 0s 4ms/step - loss: 0.0053 - accuracy: 0.9986 - val_loss: 0.5664 - val_accuracy: 0.8913\n",
            "Epoch 138/150\n",
            "18/18 [==============================] - 0s 4ms/step - loss: 0.0058 - accuracy: 0.9986 - val_loss: 0.5613 - val_accuracy: 0.8986\n",
            "Epoch 139/150\n",
            "18/18 [==============================] - 0s 4ms/step - loss: 0.0053 - accuracy: 0.9982 - val_loss: 0.5658 - val_accuracy: 0.8986\n",
            "Epoch 140/150\n",
            "18/18 [==============================] - 0s 4ms/step - loss: 0.0079 - accuracy: 0.9966 - val_loss: 0.5679 - val_accuracy: 0.9058\n",
            "Epoch 141/150\n",
            "18/18 [==============================] - 0s 4ms/step - loss: 0.0050 - accuracy: 0.9984 - val_loss: 0.5764 - val_accuracy: 0.8986\n",
            "Epoch 142/150\n",
            "18/18 [==============================] - 0s 4ms/step - loss: 0.0076 - accuracy: 0.9966 - val_loss: 0.5789 - val_accuracy: 0.8986\n",
            "Epoch 143/150\n",
            "18/18 [==============================] - 0s 4ms/step - loss: 0.0060 - accuracy: 0.9976 - val_loss: 0.5554 - val_accuracy: 0.9058\n",
            "Epoch 144/150\n",
            "18/18 [==============================] - 0s 5ms/step - loss: 0.0050 - accuracy: 0.9982 - val_loss: 0.5562 - val_accuracy: 0.9058\n",
            "Epoch 145/150\n",
            "18/18 [==============================] - 0s 5ms/step - loss: 0.0122 - accuracy: 0.9942 - val_loss: 0.5708 - val_accuracy: 0.9058\n",
            "Epoch 146/150\n",
            "18/18 [==============================] - 0s 4ms/step - loss: 0.0031 - accuracy: 0.9997 - val_loss: 0.5791 - val_accuracy: 0.9058\n",
            "Epoch 147/150\n",
            "18/18 [==============================] - 0s 4ms/step - loss: 0.0025 - accuracy: 0.9994 - val_loss: 0.5799 - val_accuracy: 0.9058\n",
            "Epoch 148/150\n",
            "18/18 [==============================] - 0s 4ms/step - loss: 0.0026 - accuracy: 0.9995 - val_loss: 0.5841 - val_accuracy: 0.9058\n",
            "Epoch 149/150\n",
            "18/18 [==============================] - 0s 4ms/step - loss: 0.0093 - accuracy: 0.9958 - val_loss: 0.5951 - val_accuracy: 0.9058\n",
            "Epoch 150/150\n",
            "18/18 [==============================] - 0s 5ms/step - loss: 0.0020 - accuracy: 0.9997 - val_loss: 0.5993 - val_accuracy: 0.9058\n"
          ],
          "name": "stdout"
        }
      ]
    },
    {
      "cell_type": "code",
      "metadata": {
        "colab": {
          "base_uri": "https://localhost:8080/",
          "height": 279
        },
        "id": "isdXzatRGazI",
        "outputId": "9e0de059-8c06-433a-cb4f-abd6dc9dc9d3"
      },
      "source": [
        "loss=history.history[\"loss\"]\n",
        "val_loss=history.history[\"val_loss\"]\n",
        "epochs=range(1, len(loss)+1)\n",
        "plt.plot(epochs, loss, \"bo\", label=\"Training Loss\")\n",
        "plt.plot(epochs, val_loss, \"b\", label=\"Validation Loss\")\n",
        "plt.xlabel(\"Epochs\")\n",
        "plt.ylabel(\"Loss\")\n",
        "plt.legend()\n",
        "plt.show()"
      ],
      "execution_count": 74,
      "outputs": [
        {
          "output_type": "display_data",
          "data": {
            "image/png": "[encoded data removed]",
            "text/plain": [
              "<Figure size 432x288 with 1 Axes>"
            ]
          },
          "metadata": {
            "tags": [],
            "needs_background": "light"
          }
        }
      ]
    },
    {
      "cell_type": "code",
      "metadata": {
        "colab": {
          "base_uri": "https://localhost:8080/",
          "height": 279
        },
        "id": "Qnx0tW0TJ3-Q",
        "outputId": "561c8246-6537-4f87-e3ed-0815bd1a5bb3"
      },
      "source": [
        "acc=history.history[\"accuracy\"]\n",
        "val_acc=history.history[\"val_accuracy\"]\n",
        "epochs=range(1, len(acc)+1)\n",
        "plt.plot(epochs[:], acc[:], \"bo\", label=\"Training Accuracy\")\n",
        "plt.plot(epochs[:], val_acc[:], \"b\", label=\"Validation Accuracy\")\n",
        "plt.xlabel(\"Epochs\")\n",
        "plt.ylabel(\"Accuracy\")\n",
        "plt.legend()\n",
        "plt.show()"
      ],
      "execution_count": 75,
      "outputs": [
        {
          "output_type": "display_data",
          "data": {
            "image/png": "[encoded data removed]",
            "text/plain": [
              "<Figure size 432x288 with 1 Axes>"
            ]
          },
          "metadata": {
            "tags": [],
            "needs_background": "light"
          }
        }
      ]
    },
    {
      "cell_type": "code",
      "metadata": {
        "colab": {
          "base_uri": "https://localhost:8080/"
        },
        "id": "MeP1ogjggXBU",
        "outputId": "fe1f70f8-5ea5-44cf-9142-af97808229de"
      },
      "source": [
        "test_loss_score, test_acc_score=model.evaluate(test_data, test_labels)"
      ],
      "execution_count": 76,
      "outputs": [
        {
          "output_type": "stream",
          "text": [
            "10/10 [==============================] - 0s 2ms/step - loss: 0.5464 - accuracy: 0.9189\n"
          ],
          "name": "stdout"
        }
      ]
    },
    {
      "cell_type": "code",
      "metadata": {
        "colab": {
          "base_uri": "https://localhost:8080/"
        },
        "id": "LtqagizigXGa",
        "outputId": "b4c792ad-95b2-4e7f-b47e-8815dad5d474"
      },
      "source": [
        "test_acc_score *100"
      ],
      "execution_count": 77,
      "outputs": [
        {
          "output_type": "execute_result",
          "data": {
            "text/plain": [
              "91.89189076423645"
            ]
          },
          "metadata": {
            "tags": []
          },
          "execution_count": 77
        }
      ]
    },
    {
      "cell_type": "code",
      "metadata": {
        "id": "NYiVIxl4gXI3"
      },
      "source": [
        "prediction=model.predict(test_data)"
      ],
      "execution_count": 85,
      "outputs": []
    },
    {
      "cell_type": "code",
      "metadata": {
        "colab": {
          "base_uri": "https://localhost:8080/"
        },
        "id": "hw6oeJ93gXLe",
        "outputId": "a3f8f50a-f944-4207-a328-d7bcbf0fa16d"
      },
      "source": [
        "prediction[25:50]"
      ],
      "execution_count": 86,
      "outputs": [
        {
          "output_type": "execute_result",
          "data": {
            "text/plain": [
              "array([[1.3896823e-04],\n",
              "       [8.2630186e-07],\n",
              "       [1.0000000e+00],\n",
              "       [2.1431446e-03],\n",
              "       [1.5373355e-06],\n",
              "       [1.0000000e+00],\n",
              "       [1.0000000e+00],\n",
              "       [4.4722120e-07],\n",
              "       [1.1629000e-06],\n",
              "       [1.5634298e-04],\n",
              "       [3.5762805e-06],\n",
              "       [4.1004900e-05],\n",
              "       [1.0000000e+00],\n",
              "       [1.2596668e-06],\n",
              "       [1.0000000e+00],\n",
              "       [1.0004938e-03],\n",
              "       [1.0000000e+00],\n",
              "       [3.7074685e-03],\n",
              "       [1.0000000e+00],\n",
              "       [1.0000000e+00],\n",
              "       [9.9100906e-01],\n",
              "       [9.5993805e-01],\n",
              "       [7.3202145e-01],\n",
              "       [9.9997663e-01],\n",
              "       [1.0000000e+00]], dtype=float32)"
            ]
          },
          "metadata": {
            "tags": []
          },
          "execution_count": 86
        }
      ]
    },
    {
      "cell_type": "code",
      "metadata": {
        "colab": {
          "base_uri": "https://localhost:8080/"
        },
        "id": "7dV3gS6Lgno2",
        "outputId": "b536003e-adca-4db8-a249-6631923b9d8d"
      },
      "source": [
        "test_labels[25:50]"
      ],
      "execution_count": 87,
      "outputs": [
        {
          "output_type": "execute_result",
          "data": {
            "text/plain": [
              "array([0., 0., 1., 0., 0., 1., 1., 0., 0., 0., 0., 0., 1., 0., 1., 0., 1.,\n",
              "       0., 1., 1., 0., 1., 0., 1., 1.])"
            ]
          },
          "metadata": {
            "tags": []
          },
          "execution_count": 87
        }
      ]
    },
    {
      "cell_type": "code",
      "metadata": {
        "id": "fYAXCZFPgnwI"
      },
      "source": [
        ""
      ],
      "execution_count": null,
      "outputs": []
    }
  ]
}